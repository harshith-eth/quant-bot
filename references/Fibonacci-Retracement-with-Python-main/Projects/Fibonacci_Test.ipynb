{
 "cells": [
  {
   "cell_type": "code",
   "execution_count": 46,
   "id": "023d6e71",
   "metadata": {},
   "outputs": [],
   "source": [
    "import numpy as np\n",
    "import matplotlib.pyplot as plt\n",
    "import pandas as pd\n",
    "# !yes | pip install yfinance\n",
    "import yfinance as yf"
   ]
  },
  {
   "cell_type": "code",
   "execution_count": 47,
   "id": "94fb8df1",
   "metadata": {},
   "outputs": [],
   "source": [
    "# Ticker List\n",
    "ticker_list = ['^GSPC',\n",
    "'^IXIC',\n",
    "'^DJI']"
   ]
  },
  {
   "cell_type": "code",
   "execution_count": 48,
   "id": "84e0676e",
   "metadata": {},
   "outputs": [
    {
     "data": {
      "text/html": [
       "<div>\n",
       "<style scoped>\n",
       "    .dataframe tbody tr th:only-of-type {\n",
       "        vertical-align: middle;\n",
       "    }\n",
       "\n",
       "    .dataframe tbody tr th {\n",
       "        vertical-align: top;\n",
       "    }\n",
       "\n",
       "    .dataframe thead th {\n",
       "        text-align: right;\n",
       "    }\n",
       "</style>\n",
       "<table border=\"1\" class=\"dataframe\">\n",
       "  <thead>\n",
       "    <tr style=\"text-align: right;\">\n",
       "      <th></th>\n",
       "      <th>SQ</th>\n",
       "      <th>^GSPC</th>\n",
       "      <th>GDOT</th>\n",
       "      <th>MELI</th>\n",
       "      <th>BAC</th>\n",
       "      <th>PYPL</th>\n",
       "      <th>NVDA</th>\n",
       "      <th>CME</th>\n",
       "      <th>DOCU</th>\n",
       "    </tr>\n",
       "    <tr>\n",
       "      <th>Date</th>\n",
       "      <th></th>\n",
       "      <th></th>\n",
       "      <th></th>\n",
       "      <th></th>\n",
       "      <th></th>\n",
       "      <th></th>\n",
       "      <th></th>\n",
       "      <th></th>\n",
       "      <th></th>\n",
       "    </tr>\n",
       "  </thead>\n",
       "  <tbody>\n",
       "    <tr>\n",
       "      <th>1997-01-02 00:00:00-05:00</th>\n",
       "      <td>NaN</td>\n",
       "      <td>737.010010</td>\n",
       "      <td>NaN</td>\n",
       "      <td>NaN</td>\n",
       "      <td>12.589018</td>\n",
       "      <td>NaN</td>\n",
       "      <td>NaN</td>\n",
       "      <td>NaN</td>\n",
       "      <td>NaN</td>\n",
       "    </tr>\n",
       "    <tr>\n",
       "      <th>1997-01-03 00:00:00-05:00</th>\n",
       "      <td>NaN</td>\n",
       "      <td>748.030029</td>\n",
       "      <td>NaN</td>\n",
       "      <td>NaN</td>\n",
       "      <td>12.750618</td>\n",
       "      <td>NaN</td>\n",
       "      <td>NaN</td>\n",
       "      <td>NaN</td>\n",
       "      <td>NaN</td>\n",
       "    </tr>\n",
       "    <tr>\n",
       "      <th>1997-01-06 00:00:00-05:00</th>\n",
       "      <td>NaN</td>\n",
       "      <td>747.650024</td>\n",
       "      <td>NaN</td>\n",
       "      <td>NaN</td>\n",
       "      <td>12.766783</td>\n",
       "      <td>NaN</td>\n",
       "      <td>NaN</td>\n",
       "      <td>NaN</td>\n",
       "      <td>NaN</td>\n",
       "    </tr>\n",
       "    <tr>\n",
       "      <th>1997-01-07 00:00:00-05:00</th>\n",
       "      <td>NaN</td>\n",
       "      <td>753.229980</td>\n",
       "      <td>NaN</td>\n",
       "      <td>NaN</td>\n",
       "      <td>12.782941</td>\n",
       "      <td>NaN</td>\n",
       "      <td>NaN</td>\n",
       "      <td>NaN</td>\n",
       "      <td>NaN</td>\n",
       "    </tr>\n",
       "    <tr>\n",
       "      <th>1997-01-08 00:00:00-05:00</th>\n",
       "      <td>NaN</td>\n",
       "      <td>748.409973</td>\n",
       "      <td>NaN</td>\n",
       "      <td>NaN</td>\n",
       "      <td>13.089993</td>\n",
       "      <td>NaN</td>\n",
       "      <td>NaN</td>\n",
       "      <td>NaN</td>\n",
       "      <td>NaN</td>\n",
       "    </tr>\n",
       "  </tbody>\n",
       "</table>\n",
       "</div>"
      ],
      "text/plain": [
       "                           SQ       ^GSPC  GDOT  MELI        BAC  PYPL  NVDA  \\\n",
       "Date                                                                           \n",
       "1997-01-02 00:00:00-05:00 NaN  737.010010   NaN   NaN  12.589018   NaN   NaN   \n",
       "1997-01-03 00:00:00-05:00 NaN  748.030029   NaN   NaN  12.750618   NaN   NaN   \n",
       "1997-01-06 00:00:00-05:00 NaN  747.650024   NaN   NaN  12.766783   NaN   NaN   \n",
       "1997-01-07 00:00:00-05:00 NaN  753.229980   NaN   NaN  12.782941   NaN   NaN   \n",
       "1997-01-08 00:00:00-05:00 NaN  748.409973   NaN   NaN  13.089993   NaN   NaN   \n",
       "\n",
       "                           CME  DOCU  \n",
       "Date                                  \n",
       "1997-01-02 00:00:00-05:00  NaN   NaN  \n",
       "1997-01-03 00:00:00-05:00  NaN   NaN  \n",
       "1997-01-06 00:00:00-05:00  NaN   NaN  \n",
       "1997-01-07 00:00:00-05:00  NaN   NaN  \n",
       "1997-01-08 00:00:00-05:00  NaN   NaN  "
      ]
     },
     "execution_count": 48,
     "metadata": {},
     "output_type": "execute_result"
    }
   ],
   "source": [
    "#CREATES A DATAFRAME OF THE CLOSE PRICE OF THE ticker_list STARTING FROM 1997\n",
    "x = 0\n",
    "while x in range(len(ticker_list)):\n",
    "    if x == 0:\n",
    "        df = yf.Ticker(ticker_list[x]).history(start='1997-01-01')['Close'].rename(ticker_list[x])\n",
    "    else:\n",
    "        df1 = yf.Ticker(ticker_list[x]).history(start='1997-01-01')['Close'].rename(ticker_list[x])\n",
    "        df = pd.concat([df, df1], axis=1)\n",
    "    x += 1\n",
    "df.head()"
   ]
  },
  {
   "cell_type": "code",
   "execution_count": 77,
   "id": "036c0f40",
   "metadata": {},
   "outputs": [
    {
     "name": "stdout",
     "output_type": "stream",
     "text": [
      "2009-03-06 00:00:00-05:00\n"
     ]
    },
    {
     "data": {
      "image/png": "[encoded data removed]",
      "text/plain": [
       "<Figure size 1368x648 with 1 Axes>"
      ]
     },
     "metadata": {
      "needs_background": "light"
     },
     "output_type": "display_data"
    }
   ],
   "source": [
    "name = \"^GSPC\"\n",
    "ticker = yf.Ticker(name)\n",
    "df = ticker.history(interval=\"1d\",start=\"1997-01-01\",end=\"2022-10-31\")\n",
    "df.head()\n",
    "\n",
    "highest_swing = -1\n",
    "lowest_swing = -1\n",
    "for i in range(1,df.shape[0]-1):\n",
    "    if df['High'][i] > df['High'][i-1] and df['High'][i] > df['High'][i+1] and (highest_swing == -1 or df['High'][i] > df['High'][highest_swing]) :\n",
    "        highest_swing = i\n",
    "    if df['Low'][i] < df['Low'][i-1] and df['Low'][i] < df['Low'][i+1] and (lowest_swing == -1 or df['Low'][i] < df['Low'][lowest_swing]) :\n",
    "        lowest_swing = i\n",
    "\n",
    "ratios = [0,0.236, 0.382, 0.5 , 0.618, 0.786,1]\n",
    "colors = [\"black\",\"r\",\"g\",\"b\",\"cyan\",\"magenta\",\"yellow\"]\n",
    "levels = []\n",
    "max_level = df['High'][highest_swing]\n",
    "min_level = df['Low'][lowest_swing]\n",
    "for ratio in ratios:\n",
    "    if highest_swing > lowest_swing: # Uptrend\n",
    "        levels.append(max_level - (max_level-min_level)*ratio)\n",
    "    else: # Downtrend\n",
    "        levels.append(min_level + (max_level-min_level)*ratio)\n",
    "\n",
    "plt.rcParams['figure.figsize'] = [19, 9]\n",
    "plt.rc('font', size=14)\n",
    "plt.plot(df['Close'])\n",
    "start_date = df.index[min(highest_swing,lowest_swing)]\n",
    "end_date = df.index[max(highest_swing,lowest_swing)]\n",
    "print(start_date)\n",
    "for i in range(len(levels)):\n",
    "#     plt.hlines(levels[i],start_date, end_date,label=\"{:.1f}%\".format(ratios[i]*100),colors=colors[i], linestyles=\"dashed\")\n",
    "    plt.hlines(levels[i],df.index[0], df.index[-1],label=\"{:.1f}%\".format(ratios[i]*100),colors=colors[i], linestyles=\"dashed\")\n",
    "\n",
    "plt.legend()\n",
    "plt.show()"
   ]
  },
  {
   "cell_type": "code",
   "execution_count": 57,
   "id": "e702e806",
   "metadata": {},
   "outputs": [
    {
     "data": {
      "text/html": [
       "<div>\n",
       "<style scoped>\n",
       "    .dataframe tbody tr th:only-of-type {\n",
       "        vertical-align: middle;\n",
       "    }\n",
       "\n",
       "    .dataframe tbody tr th {\n",
       "        vertical-align: top;\n",
       "    }\n",
       "\n",
       "    .dataframe thead th {\n",
       "        text-align: right;\n",
       "    }\n",
       "</style>\n",
       "<table border=\"1\" class=\"dataframe\">\n",
       "  <thead>\n",
       "    <tr style=\"text-align: right;\">\n",
       "      <th></th>\n",
       "      <th>Open</th>\n",
       "      <th>High</th>\n",
       "      <th>Low</th>\n",
       "      <th>Close</th>\n",
       "      <th>Volume</th>\n",
       "      <th>Dividends</th>\n",
       "      <th>Stock Splits</th>\n",
       "    </tr>\n",
       "    <tr>\n",
       "      <th>Date</th>\n",
       "      <th></th>\n",
       "      <th></th>\n",
       "      <th></th>\n",
       "      <th></th>\n",
       "      <th></th>\n",
       "      <th></th>\n",
       "      <th></th>\n",
       "    </tr>\n",
       "  </thead>\n",
       "  <tbody>\n",
       "    <tr>\n",
       "      <th>1997-01-02 00:00:00-05:00</th>\n",
       "      <td>740.739990</td>\n",
       "      <td>742.809998</td>\n",
       "      <td>729.549988</td>\n",
       "      <td>737.010010</td>\n",
       "      <td>463230000</td>\n",
       "      <td>0</td>\n",
       "      <td>0</td>\n",
       "    </tr>\n",
       "    <tr>\n",
       "      <th>1997-01-03 00:00:00-05:00</th>\n",
       "      <td>737.010010</td>\n",
       "      <td>748.239990</td>\n",
       "      <td>737.010010</td>\n",
       "      <td>748.030029</td>\n",
       "      <td>452970000</td>\n",
       "      <td>0</td>\n",
       "      <td>0</td>\n",
       "    </tr>\n",
       "    <tr>\n",
       "      <th>1997-01-06 00:00:00-05:00</th>\n",
       "      <td>748.030029</td>\n",
       "      <td>753.309998</td>\n",
       "      <td>743.820007</td>\n",
       "      <td>747.650024</td>\n",
       "      <td>531350000</td>\n",
       "      <td>0</td>\n",
       "      <td>0</td>\n",
       "    </tr>\n",
       "    <tr>\n",
       "      <th>1997-01-07 00:00:00-05:00</th>\n",
       "      <td>747.650024</td>\n",
       "      <td>753.260010</td>\n",
       "      <td>742.179993</td>\n",
       "      <td>753.229980</td>\n",
       "      <td>538220000</td>\n",
       "      <td>0</td>\n",
       "      <td>0</td>\n",
       "    </tr>\n",
       "    <tr>\n",
       "      <th>1997-01-08 00:00:00-05:00</th>\n",
       "      <td>753.229980</td>\n",
       "      <td>755.719971</td>\n",
       "      <td>747.710022</td>\n",
       "      <td>748.409973</td>\n",
       "      <td>557510000</td>\n",
       "      <td>0</td>\n",
       "      <td>0</td>\n",
       "    </tr>\n",
       "    <tr>\n",
       "      <th>...</th>\n",
       "      <td>...</td>\n",
       "      <td>...</td>\n",
       "      <td>...</td>\n",
       "      <td>...</td>\n",
       "      <td>...</td>\n",
       "      <td>...</td>\n",
       "      <td>...</td>\n",
       "    </tr>\n",
       "    <tr>\n",
       "      <th>2022-10-24 00:00:00-04:00</th>\n",
       "      <td>3762.010010</td>\n",
       "      <td>3810.739990</td>\n",
       "      <td>3741.649902</td>\n",
       "      <td>3797.340088</td>\n",
       "      <td>4747930000</td>\n",
       "      <td>0</td>\n",
       "      <td>0</td>\n",
       "    </tr>\n",
       "    <tr>\n",
       "      <th>2022-10-25 00:00:00-04:00</th>\n",
       "      <td>3799.439941</td>\n",
       "      <td>3862.850098</td>\n",
       "      <td>3799.439941</td>\n",
       "      <td>3859.110107</td>\n",
       "      <td>4843120000</td>\n",
       "      <td>0</td>\n",
       "      <td>0</td>\n",
       "    </tr>\n",
       "    <tr>\n",
       "      <th>2022-10-26 00:00:00-04:00</th>\n",
       "      <td>3825.969971</td>\n",
       "      <td>3886.149902</td>\n",
       "      <td>3824.070068</td>\n",
       "      <td>3830.600098</td>\n",
       "      <td>4817310000</td>\n",
       "      <td>0</td>\n",
       "      <td>0</td>\n",
       "    </tr>\n",
       "    <tr>\n",
       "      <th>2022-10-27 00:00:00-04:00</th>\n",
       "      <td>3834.689941</td>\n",
       "      <td>3859.949951</td>\n",
       "      <td>3803.790039</td>\n",
       "      <td>3807.300049</td>\n",
       "      <td>4687320000</td>\n",
       "      <td>0</td>\n",
       "      <td>0</td>\n",
       "    </tr>\n",
       "    <tr>\n",
       "      <th>2022-10-28 00:00:00-04:00</th>\n",
       "      <td>3808.260010</td>\n",
       "      <td>3905.419922</td>\n",
       "      <td>3808.260010</td>\n",
       "      <td>3901.060059</td>\n",
       "      <td>4459410000</td>\n",
       "      <td>0</td>\n",
       "      <td>0</td>\n",
       "    </tr>\n",
       "  </tbody>\n",
       "</table>\n",
       "<p>6501 rows × 7 columns</p>\n",
       "</div>"
      ],
      "text/plain": [
       "                                  Open         High          Low        Close  \\\n",
       "Date                                                                            \n",
       "1997-01-02 00:00:00-05:00   740.739990   742.809998   729.549988   737.010010   \n",
       "1997-01-03 00:00:00-05:00   737.010010   748.239990   737.010010   748.030029   \n",
       "1997-01-06 00:00:00-05:00   748.030029   753.309998   743.820007   747.650024   \n",
       "1997-01-07 00:00:00-05:00   747.650024   753.260010   742.179993   753.229980   \n",
       "1997-01-08 00:00:00-05:00   753.229980   755.719971   747.710022   748.409973   \n",
       "...                                ...          ...          ...          ...   \n",
       "2022-10-24 00:00:00-04:00  3762.010010  3810.739990  3741.649902  3797.340088   \n",
       "2022-10-25 00:00:00-04:00  3799.439941  3862.850098  3799.439941  3859.110107   \n",
       "2022-10-26 00:00:00-04:00  3825.969971  3886.149902  3824.070068  3830.600098   \n",
       "2022-10-27 00:00:00-04:00  3834.689941  3859.949951  3803.790039  3807.300049   \n",
       "2022-10-28 00:00:00-04:00  3808.260010  3905.419922  3808.260010  3901.060059   \n",
       "\n",
       "                               Volume  Dividends  Stock Splits  \n",
       "Date                                                            \n",
       "1997-01-02 00:00:00-05:00   463230000          0             0  \n",
       "1997-01-03 00:00:00-05:00   452970000          0             0  \n",
       "1997-01-06 00:00:00-05:00   531350000          0             0  \n",
       "1997-01-07 00:00:00-05:00   538220000          0             0  \n",
       "1997-01-08 00:00:00-05:00   557510000          0             0  \n",
       "...                               ...        ...           ...  \n",
       "2022-10-24 00:00:00-04:00  4747930000          0             0  \n",
       "2022-10-25 00:00:00-04:00  4843120000          0             0  \n",
       "2022-10-26 00:00:00-04:00  4817310000          0             0  \n",
       "2022-10-27 00:00:00-04:00  4687320000          0             0  \n",
       "2022-10-28 00:00:00-04:00  4459410000          0             0  \n",
       "\n",
       "[6501 rows x 7 columns]"
      ]
     },
     "execution_count": 57,
     "metadata": {},
     "output_type": "execute_result"
    }
   ],
   "source": [
    "df"
   ]
  },
  {
   "cell_type": "code",
   "execution_count": 59,
   "id": "daac79e8",
   "metadata": {},
   "outputs": [
    {
     "data": {
      "text/plain": [
       "6501"
      ]
     },
     "execution_count": 59,
     "metadata": {},
     "output_type": "execute_result"
    }
   ],
   "source": [
    "df.shape[0]"
   ]
  },
  {
   "cell_type": "code",
   "execution_count": 63,
   "id": "62fbeee1",
   "metadata": {},
   "outputs": [
    {
     "name": "stdout",
     "output_type": "stream",
     "text": [
      "2009-03-06 00:00:00-05:00\n"
     ]
    }
   ],
   "source": [
    "print(start_date)"
   ]
  },
  {
   "cell_type": "code",
   "execution_count": 64,
   "id": "e29d7153",
   "metadata": {},
   "outputs": [
    {
     "data": {
      "text/plain": [
       "pandas._libs.tslibs.timestamps.Timestamp"
      ]
     },
     "execution_count": 64,
     "metadata": {},
     "output_type": "execute_result"
    }
   ],
   "source": [
    "type(start_date)"
   ]
  },
  {
   "cell_type": "code",
   "execution_count": 66,
   "id": "e8fb6ca2",
   "metadata": {},
   "outputs": [
    {
     "data": {
      "text/plain": [
       "6294"
      ]
     },
     "execution_count": 66,
     "metadata": {},
     "output_type": "execute_result"
    }
   ],
   "source": [
    "highest_swing"
   ]
  },
  {
   "cell_type": "code",
   "execution_count": 67,
   "id": "cbf12b57",
   "metadata": {},
   "outputs": [
    {
     "data": {
      "text/plain": [
       "3063"
      ]
     },
     "execution_count": 67,
     "metadata": {},
     "output_type": "execute_result"
    }
   ],
   "source": [
    "lowest_swing"
   ]
  },
  {
   "cell_type": "code",
   "execution_count": 76,
   "id": "cb796b15",
   "metadata": {},
   "outputs": [
    {
     "data": {
      "text/plain": [
       "Timestamp('2022-10-28 00:00:00-0400', tz='America/New_York')"
      ]
     },
     "execution_count": 76,
     "metadata": {},
     "output_type": "execute_result"
    }
   ],
   "source": [
    "df.index[-1]"
   ]
  },
  {
   "cell_type": "code",
   "execution_count": 65,
   "id": "dad1a772",
   "metadata": {},
   "outputs": [],
   "source": [
    "start_date = df.index[min(highest_swing,lowest_swing)]\n"
   ]
  },
  {
   "cell_type": "code",
   "execution_count": 1,
   "id": "91e9a7f5",
   "metadata": {},
   "outputs": [
    {
     "ename": "NameError",
     "evalue": "name 'df' is not defined",
     "output_type": "error",
     "traceback": [
      "\u001b[1;31m---------------------------------------------------------------------------\u001b[0m",
      "\u001b[1;31mNameError\u001b[0m                                 Traceback (most recent call last)",
      "\u001b[1;32m~\\AppData\\Local\\Temp\\ipykernel_7660\\451166535.py\u001b[0m in \u001b[0;36m<module>\u001b[1;34m\u001b[0m\n\u001b[1;32m----> 1\u001b[1;33m \u001b[0mend_date\u001b[0m \u001b[1;33m=\u001b[0m \u001b[0mdf\u001b[0m\u001b[1;33m.\u001b[0m\u001b[0mindex\u001b[0m\u001b[1;33m[\u001b[0m\u001b[0mmax\u001b[0m\u001b[1;33m(\u001b[0m\u001b[0mhighest_swing\u001b[0m\u001b[1;33m,\u001b[0m\u001b[0mlowest_swing\u001b[0m\u001b[1;33m)\u001b[0m\u001b[1;33m]\u001b[0m\u001b[1;33m\u001b[0m\u001b[1;33m\u001b[0m\u001b[0m\n\u001b[0m",
      "\u001b[1;31mNameError\u001b[0m: name 'df' is not defined"
     ]
    }
   ],
   "source": [
    "end_date = df.index[max(highest_swing,lowest_swing)]\n"
   ]
  },
  {
   "cell_type": "code",
   "execution_count": null,
   "id": "92e9d4e5",
   "metadata": {},
   "outputs": [],
   "source": [
    "df.hvplot.line(x='Date',y=['^GSPC', '^IXIC', '^DJI'],\n",
    "              value_label='Close', legend='top', height=500, width=1000)"
   ]
  },
  {
   "cell_type": "code",
   "execution_count": null,
   "id": "b7a93a57",
   "metadata": {},
   "outputs": [],
   "source": []
  }
 ],
 "metadata": {
  "kernelspec": {
   "display_name": "Python 3 (ipykernel)",
   "language": "python",
   "name": "python3"
  },
  "language_info": {
   "codemirror_mode": {
    "name": "ipython",
    "version": 3
   },
   "file_extension": ".py",
   "mimetype": "text/x-python",
   "name": "python",
   "nbconvert_exporter": "python",
   "pygments_lexer": "ipython3",
   "version": "3.7.13"
  }
 },
 "nbformat": 4,
 "nbformat_minor": 5
}
