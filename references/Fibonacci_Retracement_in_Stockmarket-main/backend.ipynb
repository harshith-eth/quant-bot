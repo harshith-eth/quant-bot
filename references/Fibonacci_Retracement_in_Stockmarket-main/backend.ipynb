{
 "cells": [
  {
   "cell_type": "markdown",
   "metadata": {
    "collapsed": true,
    "pycharm": {
     "name": "#%% md\n"
    }
   },
   "source": [
    "Identify key levels: Start by identifying the high and low points of a recent price trend and draw lines at the key Fibonacci retracement levels of 23.6%, 38.2%, 50%, 61.8%, and 100%. These levels represent the likely areas where the price may reverse or consolidate before continuing in its original direction.\n",
    "\n",
    "Plot the Fibonacci Levels: Once you have identified the swing high and low, you can plot the Fibonacci retracement levels on the chart. You can use the Fibonacci retracement tool available on most trading platforms to do this.\n",
    "\n",
    "Use with other indicators: Fibonacci retracement levels can be used in conjunction with other technical indicators such as moving averages, trend lines, and oscillators. This can help confirm potential support or resistance levels.\n",
    "\n",
    "Look for confluence: Look for confluence between the Fibonacci retracement levels and other support and resistance levels such as round numbers or previous price highs or lows. This can increase the likelihood of a reversal or consolidation at that level.\n",
    "\n",
    "Identifying potential entry and exit points: Traders use Fibonacci retracements to identify potential levels of support and resistance in a stock's price trend. These levels can be used to identify potential entry and exit points for trades.\n",
    "\n",
    "Setting stop-loss orders: Fibonacci retracements can also be used to set stop-loss orders. Traders can set their stop-loss orders just below the key Fibonacci retracement levels, which can help limit their potential losses if the stock's price trend reverses.\n",
    "\n",
    "Trading the trend: Some traders use Fibonacci retracements to help identify the direction of the trend. They may wait for a retracement to a key Fibonacci level before entering a trade in the direction of the trend.\n",
    "\n",
    "Watching for price action: Traders may also watch for price action around the key Fibonacci retracement levels. If the stock's price bounces off a level multiple times, it may indicate that the level is a strong level of support or resistance.\n",
    "\n",
    "Identify the Swing High and Low: Next, identify the most recent swing high and low points in the trend. The swing high is the highest point in the trend, while the swing low is the lowest point in the trend."
   ]
  },
  {
   "cell_type": "code",
   "execution_count": 1,
   "outputs": [],
   "source": [
    "import pandas as pd\n",
    "import yfinance as yf\n",
    "from datetime import date\n",
    "import matplotlib.pyplot as plt\n",
    "import numpy as np"
   ],
   "metadata": {
    "collapsed": false,
    "pycharm": {
     "name": "#%%\n"
    }
   }
  },
  {
   "cell_type": "code",
   "execution_count": 2,
   "outputs": [
    {
     "data": {
      "text/plain": "               Open     High      Low    Close   Volume\nDate                                                   \n2023-05-15  2735.08  2751.82  2727.36  2740.35  3373596\n2023-05-16  2759.00  2764.85  2715.00  2722.65  4677862\n2023-05-17  2727.00  2727.00  2688.20  2706.15  2622477\n2023-05-18  2715.40  2732.35  2707.10  2716.00  2144878\n2023-05-19  2731.70  2731.70  2693.60  2710.95  2303627",
      "text/html": "<div>\n<style scoped>\n    .dataframe tbody tr th:only-of-type {\n        vertical-align: middle;\n    }\n\n    .dataframe tbody tr th {\n        vertical-align: top;\n    }\n\n    .dataframe thead th {\n        text-align: right;\n    }\n</style>\n<table border=\"1\" class=\"dataframe\">\n  <thead>\n    <tr style=\"text-align: right;\">\n      <th></th>\n      <th>Open</th>\n      <th>High</th>\n      <th>Low</th>\n      <th>Close</th>\n      <th>Volume</th>\n    </tr>\n    <tr>\n      <th>Date</th>\n      <th></th>\n      <th></th>\n      <th></th>\n      <th></th>\n      <th></th>\n    </tr>\n  </thead>\n  <tbody>\n    <tr>\n      <th>2023-05-15</th>\n      <td>2735.08</td>\n      <td>2751.82</td>\n      <td>2727.36</td>\n      <td>2740.35</td>\n      <td>3373596</td>\n    </tr>\n    <tr>\n      <th>2023-05-16</th>\n      <td>2759.00</td>\n      <td>2764.85</td>\n      <td>2715.00</td>\n      <td>2722.65</td>\n      <td>4677862</td>\n    </tr>\n    <tr>\n      <th>2023-05-17</th>\n      <td>2727.00</td>\n      <td>2727.00</td>\n      <td>2688.20</td>\n      <td>2706.15</td>\n      <td>2622477</td>\n    </tr>\n    <tr>\n      <th>2023-05-18</th>\n      <td>2715.40</td>\n      <td>2732.35</td>\n      <td>2707.10</td>\n      <td>2716.00</td>\n      <td>2144878</td>\n    </tr>\n    <tr>\n      <th>2023-05-19</th>\n      <td>2731.70</td>\n      <td>2731.70</td>\n      <td>2693.60</td>\n      <td>2710.95</td>\n      <td>2303627</td>\n    </tr>\n  </tbody>\n</table>\n</div>"
     },
     "execution_count": 2,
     "metadata": {},
     "output_type": "execute_result"
    }
   ],
   "source": [
    "stocksymbols = 'HDFC.NS'\n",
    "ticker = yf.Ticker(stocksymbols)\n",
    "end = date.today()\n",
    "start = \"2020-01-01\"\n",
    "df = ticker.history(interval=\"1d\",start=start,end=end)\n",
    "df.index = df.index.strftime('%d-%m-%y')\n",
    "df.index = pd.to_datetime(df.index, format='%d-%m-%y')\n",
    "df = df.loc[:,['Open','High','Low','Close','Volume']]\n",
    "df = df.round(2)\n",
    "df.tail()"
   ],
   "metadata": {
    "collapsed": false,
    "pycharm": {
     "name": "#%%\n"
    }
   }
  },
  {
   "cell_type": "code",
   "source": [
    "def calculate_fibonacci_retracement(df):\n",
    "    # Calculate Fibonacci levels\n",
    "    high = df['High']\n",
    "    low = df['Low']\n",
    "\n",
    "    # Calculate the highest high and lowest low in the given range\n",
    "    highest_high = high.max()\n",
    "    lowest_low = low.min()\n",
    "\n",
    "    # Calculate the Fibonacci retracement levels\n",
    "    diff = highest_high - lowest_low\n",
    "    level_0 = highest_high\n",
    "    level_23_6 = highest_high - (0.236 * diff)\n",
    "    level_38_2 = highest_high - (0.382 * diff)\n",
    "    level_50 = highest_high - (0.5 * diff)\n",
    "    level_61_8 = highest_high - (0.618 * diff)\n",
    "    level_100 = lowest_low\n",
    "\n",
    "    # Add Fibonacci retracement levels to the DataFrame\n",
    "    dic = {'Fibonacci_0' : level_0,\n",
    "            'Fibonacci_23.6' : level_23_6,\n",
    "            'Fibonacci_38.2' : level_38_2,\n",
    "            'Fibonacci_50' : level_50,\n",
    "            'Fibonacci_61.8' : level_61_8,\n",
    "            'Fibonacci_100'  : level_100\n",
    "           }\n",
    "\n",
    "    return dic\n",
    "fibonacci_level = calculate_fibonacci_retracement(df)\n",
    "fibonacci_level"
   ],
   "metadata": {
    "collapsed": false,
    "pycharm": {
     "name": "#%%\n"
    }
   },
   "execution_count": 3,
   "outputs": [
    {
     "data": {
      "text/plain": "{'Fibonacci_0': 2935.68,\n 'Fibonacci_23.6': 2570.39448,\n 'Fibonacci_38.2': 2344.4127599999997,\n 'Fibonacci_50': 2161.77,\n 'Fibonacci_61.8': 1979.1272399999998,\n 'Fibonacci_100': 1387.86}"
     },
     "execution_count": 3,
     "metadata": {},
     "output_type": "execute_result"
    }
   ]
  },
  {
   "cell_type": "code",
   "execution_count": 4,
   "outputs": [
    {
     "data": {
      "text/plain": "<Figure size 2250x1250 with 2 Axes>",
      "image/png": "[encoded data removed]"
     },
     "metadata": {},
     "output_type": "display_data"
    }
   ],
   "source": [
    "\n",
    "def plot_fibonacci_levels(fibonacci_level):\n",
    "    # Plot Fibonacci graph\n",
    "    plot_title = 'Fibonacci Retracement'\n",
    "    fig = plt.figure(figsize=(22.5, 12.5))\n",
    "    plt.title(plot_title, fontsize=30)\n",
    "    ax = fig.add_subplot(111)\n",
    "    plt.axhline(fibonacci_level['Fibonacci_61.8'], linestyle='--', alpha=0.5, color='purple')\n",
    "    ax.fill_between(df.index, fibonacci_level['Fibonacci_61.8'], df['Close'].min(), color='purple', alpha=0.2)\n",
    "\n",
    "    # Fill sections\n",
    "    plt.axhline(fibonacci_level['Fibonacci_0'], linestyle='--', alpha=0.5, color='blue')\n",
    "    ax.fill_between(df.index, fibonacci_level['Fibonacci_0'], fibonacci_level['Fibonacci_23.6'], color='blue', alpha=0.2)\n",
    "\n",
    "    plt.axhline(fibonacci_level['Fibonacci_23.6'], linestyle='--', alpha=0.5, color='green')\n",
    "    ax.fill_between(df.index, fibonacci_level['Fibonacci_23.6'], fibonacci_level['Fibonacci_38.2'], color='green', alpha=0.2)\n",
    "\n",
    "    plt.axhline(fibonacci_level['Fibonacci_38.2'], linestyle='--', alpha=0.5, color='red')\n",
    "    ax.fill_between(df.index, fibonacci_level['Fibonacci_38.2'], fibonacci_level['Fibonacci_50'], color='red', alpha=0.2)\n",
    "\n",
    "    plt.axhline(fibonacci_level['Fibonacci_50'], linestyle='--', alpha=0.5, color='orange')\n",
    "    ax.fill_between(df.index, fibonacci_level['Fibonacci_50'], fibonacci_level['Fibonacci_61.8'], color='orange', alpha=0.2)\n",
    "\n",
    "    plt.axhline(fibonacci_level['Fibonacci_61.8'], linestyle='--', alpha=0.5, color='yellow')\n",
    "    ax.fill_between(df.index, fibonacci_level['Fibonacci_61.8'], fibonacci_level['Fibonacci_100'], color='brown', alpha=0.2)\n",
    "\n",
    "    plt.xlabel('Date', fontsize=20)\n",
    "    plt.show()\n",
    "\n",
    "# Assuming you have a DataFrame named 'df' with a 'Close' column and the Fibonacci retracement levels dictionary named 'fibonacci_level'\n",
    "plot_fibonacci_levels(fibonacci_level)\n"
   ],
   "metadata": {
    "collapsed": false,
    "pycharm": {
     "name": "#%%\n"
    }
   }
  },
  {
   "cell_type": "code",
   "execution_count": 5,
   "outputs": [
    {
     "name": "stdout",
     "output_type": "stream",
     "text": [
      "               Open     High      Low    Close   Volume\n",
      "Date                                                   \n",
      "2020-01-01  2277.54  2296.85  2269.06  2292.56   945874\n",
      "2020-01-02  2288.84  2329.11  2281.31  2323.13  1701396\n",
      "2020-01-03  2312.39  2323.13  2299.96  2311.87  1963923\n",
      "2020-01-06  2286.96  2302.97  2233.65  2245.61  2656731\n",
      "2020-01-07  2261.76  2287.71  2241.94  2274.76  3771992\n"
     ]
    }
   ],
   "source": [
    "print(df.head(5))"
   ],
   "metadata": {
    "collapsed": false,
    "pycharm": {
     "name": "#%%\n"
    }
   }
  },
  {
   "cell_type": "code",
   "execution_count": 6,
   "outputs": [
    {
     "data": {
      "text/plain": "\"\\ndf1 = df.copy()\\ndf1 = df1.resample('W-FRI').agg({\\n    'High' : 'max',\\n    'Low' : 'min',\\n    'Open' : 'first',\\n    'Close' : 'last'\\n})\\nprint(df1.head(40))\\n\""
     },
     "execution_count": 6,
     "metadata": {},
     "output_type": "execute_result"
    }
   ],
   "source": [
    "'''\n",
    "df1 = df.copy()\n",
    "df1 = df1.resample('W-FRI').agg({\n",
    "    'High' : 'max',\n",
    "    'Low' : 'min',\n",
    "    'Open' : 'first',\n",
    "    'Close' : 'last'\n",
    "})\n",
    "print(df1.head(40))\n",
    "'''"
   ],
   "metadata": {
    "collapsed": false,
    "pycharm": {
     "name": "#%%\n"
    }
   }
  },
  {
   "cell_type": "code",
   "source": [
    "def find_swing_high_low(df):\n",
    "    swing_highs = []\n",
    "    swing_lows = []\n",
    "\n",
    "    for i in range(1, len(df) - 1):\n",
    "        if (\n",
    "            df['High'][i] > df['High'][i-1]\n",
    "            and df['High'][i] > df['High'][i+1]\n",
    "        ):\n",
    "            swing_highs.append(df['High'][i])\n",
    "        else:\n",
    "            swing_highs.append(None)  # Add None if not a swing high\n",
    "\n",
    "        if (\n",
    "            df['Low'][i] < df['Low'][i-1]\n",
    "            and df['Low'][i] < df['Low'][i+1]\n",
    "        ):\n",
    "            swing_lows.append(df['Low'][i])\n",
    "        else:\n",
    "            swing_lows.append(None)  # Add None if not a swing low\n",
    "\n",
    "    swing_highs = [None] + swing_highs + [None]  # Add None for the first and last rows\n",
    "    swing_lows = [None] + swing_lows + [None]  # Add None for the first and last rows\n",
    "\n",
    "    for i in range(len(swing_highs)):\n",
    "        if swing_highs[i] is None:\n",
    "            swing_highs[i] = swing_highs[i-1]\n",
    "\n",
    "    for i in range(len(swing_lows)):\n",
    "        if swing_lows[i] is None:\n",
    "            swing_lows[i] = swing_lows[i-1]\n",
    "\n",
    "    df['swing_highs'] = swing_highs\n",
    "    df['swing_lows'] = swing_lows\n",
    "    df= df.dropna()\n",
    "    return df\n",
    "\n",
    "df1 = find_swing_high_low(df)\n",
    "print(df1)"
   ],
   "metadata": {
    "collapsed": false,
    "pycharm": {
     "name": "#%%\n"
    }
   },
   "execution_count": 7,
   "outputs": [
    {
     "name": "stdout",
     "output_type": "stream",
     "text": [
      "               Open     High      Low    Close   Volume  swing_highs  \\\n",
      "Date                                                                   \n",
      "2020-01-06  2286.96  2302.97  2233.65  2245.61  2656731      2329.11   \n",
      "2020-01-07  2261.76  2287.71  2241.94  2274.76  3771992      2329.11   \n",
      "2020-01-08  2248.34  2272.83  2246.93  2266.38  2147334      2329.11   \n",
      "2020-01-09  2288.84  2319.64  2280.51  2314.65  3247323      2329.11   \n",
      "2020-01-10  2321.81  2333.73  2298.55  2314.79  2082060      2333.73   \n",
      "...             ...      ...      ...      ...      ...          ...   \n",
      "2023-05-15  2735.08  2751.82  2727.36  2740.35  3373596      2723.27   \n",
      "2023-05-16  2759.00  2764.85  2715.00  2722.65  4677862      2764.85   \n",
      "2023-05-17  2727.00  2727.00  2688.20  2706.15  2622477      2764.85   \n",
      "2023-05-18  2715.40  2732.35  2707.10  2716.00  2144878      2732.35   \n",
      "2023-05-19  2731.70  2731.70  2693.60  2710.95  2303627      2732.35   \n",
      "\n",
      "            swing_lows  \n",
      "Date                    \n",
      "2020-01-06     2233.65  \n",
      "2020-01-07     2233.65  \n",
      "2020-01-08     2233.65  \n",
      "2020-01-09     2233.65  \n",
      "2020-01-10     2233.65  \n",
      "...                ...  \n",
      "2023-05-15     2706.54  \n",
      "2023-05-16     2706.54  \n",
      "2023-05-17     2688.20  \n",
      "2023-05-18     2688.20  \n",
      "2023-05-19     2688.20  \n",
      "\n",
      "[837 rows x 7 columns]\n"
     ]
    }
   ]
  },
  {
   "cell_type": "code",
   "execution_count": 8,
   "outputs": [
    {
     "name": "stdout",
     "output_type": "stream",
     "text": [
      "[1719.09348 1979.12724 2161.77    2344.41276 2570.39448]\n"
     ]
    }
   ],
   "source": [
    "def find_confluence(df):\n",
    "    # Calculate Fibonacci retracement levels\n",
    "    price_high = df['High'].max()\n",
    "    price_low = df['Low'].min()\n",
    "    price_range = price_high - price_low\n",
    "\n",
    "    fibonacci_levels = [0.236, 0.382, 0.5, 0.618, 0.786]\n",
    "    fib_levels = []\n",
    "    for level in fibonacci_levels:\n",
    "        fib_levels.append(price_high - level * price_range)\n",
    "\n",
    "    # Look for confluence between Fibonacci levels and other levels\n",
    "    confluence_levels = []\n",
    "    for level in fib_levels:\n",
    "\n",
    "        # Previous price high/low confluence\n",
    "        if df['swing_highs'].max() >= level >= df['swing_lows'].min():\n",
    "            confluence_levels.append(level)\n",
    "\n",
    "    return np.unique(confluence_levels)\n",
    "\n",
    "confluence_levels = find_confluence(df1)\n",
    "print(confluence_levels)"
   ],
   "metadata": {
    "collapsed": false,
    "pycharm": {
     "name": "#%%\n"
    }
   }
  },
  {
   "cell_type": "code",
   "execution_count": 9,
   "outputs": [
    {
     "name": "stderr",
     "output_type": "stream",
     "text": [
      "C:\\Users\\Harsh\\AppData\\Local\\Temp\\ipykernel_16712\\3375240653.py:11: SettingWithCopyWarning: \n",
      "A value is trying to be set on a copy of a slice from a DataFrame.\n",
      "Try using .loc[row_indexer,col_indexer] = value instead\n",
      "\n",
      "See the caveats in the documentation: https://pandas.pydata.org/pandas-docs/stable/user_guide/indexing.html#returning-a-view-versus-a-copy\n",
      "  df.loc[:, 'IsSwingHigh'] = df['High'] > df['High'].shift(1)\n",
      "C:\\Users\\Harsh\\AppData\\Local\\Temp\\ipykernel_16712\\3375240653.py:12: SettingWithCopyWarning: \n",
      "A value is trying to be set on a copy of a slice from a DataFrame.\n",
      "Try using .loc[row_indexer,col_indexer] = value instead\n",
      "\n",
      "See the caveats in the documentation: https://pandas.pydata.org/pandas-docs/stable/user_guide/indexing.html#returning-a-view-versus-a-copy\n",
      "  df.loc[:, 'IsSwingLow'] = df['Low'] < df['Low'].shift(1)\n",
      "C:\\Users\\Harsh\\AppData\\Local\\Temp\\ipykernel_16712\\3375240653.py:19: SettingWithCopyWarning: \n",
      "A value is trying to be set on a copy of a slice from a DataFrame.\n",
      "Try using .loc[row_indexer,col_indexer] = value instead\n",
      "\n",
      "See the caveats in the documentation: https://pandas.pydata.org/pandas-docs/stable/user_guide/indexing.html#returning-a-view-versus-a-copy\n",
      "  df['entry_points'] = swing_highs[swing_highs <= fib_values[3]]\n",
      "C:\\Users\\Harsh\\AppData\\Local\\Temp\\ipykernel_16712\\3375240653.py:20: SettingWithCopyWarning: \n",
      "A value is trying to be set on a copy of a slice from a DataFrame.\n",
      "Try using .loc[row_indexer,col_indexer] = value instead\n",
      "\n",
      "See the caveats in the documentation: https://pandas.pydata.org/pandas-docs/stable/user_guide/indexing.html#returning-a-view-versus-a-copy\n",
      "  df['exit_points'] = swing_lows[swing_lows >= fib_values[3]]\n",
      "C:\\Users\\Harsh\\AppData\\Local\\Temp\\ipykernel_16712\\3375240653.py:21: SettingWithCopyWarning: \n",
      "A value is trying to be set on a copy of a slice from a DataFrame\n",
      "\n",
      "See the caveats in the documentation: https://pandas.pydata.org/pandas-docs/stable/user_guide/indexing.html#returning-a-view-versus-a-copy\n",
      "  df.fillna(method='ffill', inplace=True)\n"
     ]
    },
    {
     "data": {
      "text/plain": "               Open     High      Low    Close   Volume  swing_highs  \\\nDate                                                                   \n2020-01-06  2286.96  2302.97  2233.65  2245.61  2656731      2329.11   \n2020-01-07  2261.76  2287.71  2241.94  2274.76  3771992      2329.11   \n2020-01-08  2248.34  2272.83  2246.93  2266.38  2147334      2329.11   \n2020-01-09  2288.84  2319.64  2280.51  2314.65  3247323      2329.11   \n2020-01-10  2321.81  2333.73  2298.55  2314.79  2082060      2333.73   \n...             ...      ...      ...      ...      ...          ...   \n2023-05-15  2735.08  2751.82  2727.36  2740.35  3373596      2723.27   \n2023-05-16  2759.00  2764.85  2715.00  2722.65  4677862      2764.85   \n2023-05-17  2727.00  2727.00  2688.20  2706.15  2622477      2764.85   \n2023-05-18  2715.40  2732.35  2707.10  2716.00  2144878      2732.35   \n2023-05-19  2731.70  2731.70  2693.60  2710.95  2303627      2732.35   \n\n            swing_lows  IsSwingHigh  IsSwingLow  entry_points  exit_points  \nDate                                                                        \n2020-01-06     2233.65        False       False          0.00         0.00  \n2020-01-07     2233.65        False       False          0.00         0.00  \n2020-01-08     2233.65        False       False          0.00         0.00  \n2020-01-09     2233.65         True       False          0.00         0.00  \n2020-01-10     2233.65         True       False          0.00         0.00  \n...                ...          ...         ...           ...          ...  \n2023-05-15     2706.54         True       False       2159.33      2706.54  \n2023-05-16     2706.54         True        True       2159.33      2715.00  \n2023-05-17     2688.20        False        True       2159.33      2688.20  \n2023-05-18     2688.20         True       False       2159.33      2688.20  \n2023-05-19     2688.20        False        True       2159.33      2693.60  \n\n[837 rows x 11 columns]",
      "text/html": "<div>\n<style scoped>\n    .dataframe tbody tr th:only-of-type {\n        vertical-align: middle;\n    }\n\n    .dataframe tbody tr th {\n        vertical-align: top;\n    }\n\n    .dataframe thead th {\n        text-align: right;\n    }\n</style>\n<table border=\"1\" class=\"dataframe\">\n  <thead>\n    <tr style=\"text-align: right;\">\n      <th></th>\n      <th>Open</th>\n      <th>High</th>\n      <th>Low</th>\n      <th>Close</th>\n      <th>Volume</th>\n      <th>swing_highs</th>\n      <th>swing_lows</th>\n      <th>IsSwingHigh</th>\n      <th>IsSwingLow</th>\n      <th>entry_points</th>\n      <th>exit_points</th>\n    </tr>\n    <tr>\n      <th>Date</th>\n      <th></th>\n      <th></th>\n      <th></th>\n      <th></th>\n      <th></th>\n      <th></th>\n      <th></th>\n      <th></th>\n      <th></th>\n      <th></th>\n      <th></th>\n    </tr>\n  </thead>\n  <tbody>\n    <tr>\n      <th>2020-01-06</th>\n      <td>2286.96</td>\n      <td>2302.97</td>\n      <td>2233.65</td>\n      <td>2245.61</td>\n      <td>2656731</td>\n      <td>2329.11</td>\n      <td>2233.65</td>\n      <td>False</td>\n      <td>False</td>\n      <td>0.00</td>\n      <td>0.00</td>\n    </tr>\n    <tr>\n      <th>2020-01-07</th>\n      <td>2261.76</td>\n      <td>2287.71</td>\n      <td>2241.94</td>\n      <td>2274.76</td>\n      <td>3771992</td>\n      <td>2329.11</td>\n      <td>2233.65</td>\n      <td>False</td>\n      <td>False</td>\n      <td>0.00</td>\n      <td>0.00</td>\n    </tr>\n    <tr>\n      <th>2020-01-08</th>\n      <td>2248.34</td>\n      <td>2272.83</td>\n      <td>2246.93</td>\n      <td>2266.38</td>\n      <td>2147334</td>\n      <td>2329.11</td>\n      <td>2233.65</td>\n      <td>False</td>\n      <td>False</td>\n      <td>0.00</td>\n      <td>0.00</td>\n    </tr>\n    <tr>\n      <th>2020-01-09</th>\n      <td>2288.84</td>\n      <td>2319.64</td>\n      <td>2280.51</td>\n      <td>2314.65</td>\n      <td>3247323</td>\n      <td>2329.11</td>\n      <td>2233.65</td>\n      <td>True</td>\n      <td>False</td>\n      <td>0.00</td>\n      <td>0.00</td>\n    </tr>\n    <tr>\n      <th>2020-01-10</th>\n      <td>2321.81</td>\n      <td>2333.73</td>\n      <td>2298.55</td>\n      <td>2314.79</td>\n      <td>2082060</td>\n      <td>2333.73</td>\n      <td>2233.65</td>\n      <td>True</td>\n      <td>False</td>\n      <td>0.00</td>\n      <td>0.00</td>\n    </tr>\n    <tr>\n      <th>...</th>\n      <td>...</td>\n      <td>...</td>\n      <td>...</td>\n      <td>...</td>\n      <td>...</td>\n      <td>...</td>\n      <td>...</td>\n      <td>...</td>\n      <td>...</td>\n      <td>...</td>\n      <td>...</td>\n    </tr>\n    <tr>\n      <th>2023-05-15</th>\n      <td>2735.08</td>\n      <td>2751.82</td>\n      <td>2727.36</td>\n      <td>2740.35</td>\n      <td>3373596</td>\n      <td>2723.27</td>\n      <td>2706.54</td>\n      <td>True</td>\n      <td>False</td>\n      <td>2159.33</td>\n      <td>2706.54</td>\n    </tr>\n    <tr>\n      <th>2023-05-16</th>\n      <td>2759.00</td>\n      <td>2764.85</td>\n      <td>2715.00</td>\n      <td>2722.65</td>\n      <td>4677862</td>\n      <td>2764.85</td>\n      <td>2706.54</td>\n      <td>True</td>\n      <td>True</td>\n      <td>2159.33</td>\n      <td>2715.00</td>\n    </tr>\n    <tr>\n      <th>2023-05-17</th>\n      <td>2727.00</td>\n      <td>2727.00</td>\n      <td>2688.20</td>\n      <td>2706.15</td>\n      <td>2622477</td>\n      <td>2764.85</td>\n      <td>2688.20</td>\n      <td>False</td>\n      <td>True</td>\n      <td>2159.33</td>\n      <td>2688.20</td>\n    </tr>\n    <tr>\n      <th>2023-05-18</th>\n      <td>2715.40</td>\n      <td>2732.35</td>\n      <td>2707.10</td>\n      <td>2716.00</td>\n      <td>2144878</td>\n      <td>2732.35</td>\n      <td>2688.20</td>\n      <td>True</td>\n      <td>False</td>\n      <td>2159.33</td>\n      <td>2688.20</td>\n    </tr>\n    <tr>\n      <th>2023-05-19</th>\n      <td>2731.70</td>\n      <td>2731.70</td>\n      <td>2693.60</td>\n      <td>2710.95</td>\n      <td>2303627</td>\n      <td>2732.35</td>\n      <td>2688.20</td>\n      <td>False</td>\n      <td>True</td>\n      <td>2159.33</td>\n      <td>2693.60</td>\n    </tr>\n  </tbody>\n</table>\n<p>837 rows × 11 columns</p>\n</div>"
     },
     "execution_count": 9,
     "metadata": {},
     "output_type": "execute_result"
    }
   ],
   "source": [
    "def identify_entry_exit_points(df):\n",
    "    # Calculate Fibonacci levels\n",
    "    high = df['High'].max()\n",
    "    low = df['Low'].min()\n",
    "    diff = high - low\n",
    "\n",
    "    fib_levels = [0.0, 0.236, 0.382, 0.5, 0.618, 0.786, 1.0]\n",
    "    fib_values = [low + level * diff for level in fib_levels]\n",
    "\n",
    "    # Identify swing highs and swing lows\n",
    "    df.loc[:, 'IsSwingHigh'] = df['High'] > df['High'].shift(1)\n",
    "    df.loc[:, 'IsSwingLow'] = df['Low'] < df['Low'].shift(1)\n",
    "\n",
    "    # Filter swing highs and swing lows\n",
    "    swing_highs = df.loc[df['IsSwingHigh'], 'High']\n",
    "    swing_lows = df.loc[df['IsSwingLow'], 'Low']\n",
    "\n",
    "    # Identify potential entry and exit points\n",
    "    df['entry_points'] = swing_highs[swing_highs <= fib_values[3]]\n",
    "    df['exit_points'] = swing_lows[swing_lows >= fib_values[3]]\n",
    "    df.fillna(method='ffill', inplace=True)\n",
    "    df = df.fillna(0)\n",
    "    return df\n",
    "\n",
    "df2 = identify_entry_exit_points(df1)\n",
    "df2"
   ],
   "metadata": {
    "collapsed": false,
    "pycharm": {
     "name": "#%%\n"
    }
   }
  },
  {
   "cell_type": "code",
   "execution_count": null,
   "outputs": [],
   "source": [],
   "metadata": {
    "collapsed": false,
    "pycharm": {
     "name": "#%%"
    }
   }
  }
 ],
 "metadata": {
  "kernelspec": {
   "display_name": "Python 3",
   "language": "python",
   "name": "python3"
  },
  "language_info": {
   "codemirror_mode": {
    "name": "ipython",
    "version": 2
   },
   "file_extension": ".py",
   "mimetype": "text/x-python",
   "name": "python",
   "nbconvert_exporter": "python",
   "pygments_lexer": "ipython2",
   "version": "2.7.6"
  }
 },
 "nbformat": 4,
 "nbformat_minor": 0
}